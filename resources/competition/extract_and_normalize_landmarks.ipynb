{
 "cells": [
  {
   "attachments": {},
   "cell_type": "markdown",
   "metadata": {},
   "source": [
    "## Extract and normalize hand landmarks"
   ]
  },
  {
   "cell_type": "code",
   "execution_count": 1,
   "metadata": {},
   "outputs": [
    {
     "name": "stderr",
     "output_type": "stream",
     "text": [
      "2023-08-16 08:48:42.143813: I tensorflow/core/platform/cpu_feature_guard.cc:182] This TensorFlow binary is optimized to use available CPU instructions in performance-critical operations.\n",
      "To enable the following instructions: AVX2 FMA, in other operations, rebuild TensorFlow with the appropriate compiler flags.\n",
      "2023-08-16 08:48:42.702824: W tensorflow/compiler/tf2tensorrt/utils/py_utils.cc:38] TF-TRT Warning: Could not find TensorRT\n"
     ]
    }
   ],
   "source": [
    "from __future__ import annotations\n",
    "\n",
    "import json\n",
    "import glob\n",
    "import tqdm\n",
    "import numpy as np\n",
    "import pandas as pd\n",
    "import matplotlib.pyplot as plt\n",
    "from mediapipe.python.solutions.face_mesh import FACEMESH_LIPS"
   ]
  },
  {
   "attachments": {},
   "cell_type": "markdown",
   "metadata": {},
   "source": [
    "### Define landmark column names"
   ]
  },
  {
   "cell_type": "code",
   "execution_count": 2,
   "metadata": {},
   "outputs": [
    {
     "data": {
      "text/plain": [
       "(96, 288)"
      ]
     },
     "execution_count": 2,
     "metadata": {},
     "output_type": "execute_result"
    }
   ],
   "source": [
    "left_hand_columns = [\n",
    "    f\"{axis}_left_hand_{index}\"\n",
    "    for index in range(21)\n",
    "    for axis in \"xyz\"\n",
    "]\n",
    "right_hand_columns = [\n",
    "    f\"{axis}_right_hand_{index}\"\n",
    "    for index in range(21)\n",
    "    for axis in \"xyz\"\n",
    "]\n",
    "arms_columns = [\n",
    "    f\"{axis}_pose_{index}\"\n",
    "    for index in range(11, 25)\n",
    "    for axis in \"xyz\"\n",
    "]\n",
    "lips_columns = [\n",
    "    f\"{axis}_face_{index}\"\n",
    "    for index in sorted(set(sum(map(list, FACEMESH_LIPS), [])))\n",
    "    for axis in \"xyz\"\n",
    "]\n",
    "columns = left_hand_columns + right_hand_columns + arms_columns + lips_columns\n",
    "len(columns) // 3, len(columns)"
   ]
  },
  {
   "cell_type": "code",
   "execution_count": 3,
   "metadata": {},
   "outputs": [
    {
     "data": {
      "text/plain": [
       "['x_left_hand_0',\n",
       " 'y_left_hand_0',\n",
       " 'z_left_hand_0',\n",
       " 'x_left_hand_1',\n",
       " 'y_left_hand_1',\n",
       " 'z_left_hand_1',\n",
       " 'x_left_hand_2',\n",
       " 'y_left_hand_2',\n",
       " 'z_left_hand_2',\n",
       " 'x_left_hand_3']"
      ]
     },
     "execution_count": 3,
     "metadata": {},
     "output_type": "execute_result"
    }
   ],
   "source": [
    "columns[:10]"
   ]
  },
  {
   "cell_type": "code",
   "execution_count": 4,
   "metadata": {},
   "outputs": [
    {
     "name": "stdout",
     "output_type": "stream",
     "text": [
      "21\n",
      "14\n",
      "40\n"
     ]
    }
   ],
   "source": [
    "print(len(left_hand_columns) // 3)\n",
    "print(len(arms_columns) // 3)\n",
    "print(len(lips_columns) // 3)"
   ]
  },
  {
   "attachments": {},
   "cell_type": "markdown",
   "metadata": {},
   "source": [
    "### Extract landmarks from parquets"
   ]
  },
  {
   "cell_type": "code",
   "execution_count": 5,
   "metadata": {},
   "outputs": [
    {
     "name": "stderr",
     "output_type": "stream",
     "text": [
      "100%|██████████| 68/68 [02:19<00:00,  2.05s/it]\n"
     ]
    }
   ],
   "source": [
    "train_hand_landmarks = {}\n",
    "for filename in tqdm.tqdm(glob.glob(\"train_landmarks/*.parquet\")):\n",
    "    for seq_id, df in pd.read_parquet(filename).groupby(\"sequence_id\"):\n",
    "        train_hand_landmarks[seq_id] = df[left_hand_columns + right_hand_columns].to_numpy()"
   ]
  },
  {
   "cell_type": "code",
   "execution_count": 6,
   "metadata": {},
   "outputs": [
    {
     "name": "stderr",
     "output_type": "stream",
     "text": [
      "100%|██████████| 53/53 [01:53<00:00,  2.15s/it]\n"
     ]
    }
   ],
   "source": [
    "supplemental_hand_landmarks = {}\n",
    "for filename in tqdm.tqdm(glob.glob(\"supplemental_landmarks/*.parquet\")):\n",
    "    for seq_id, df in pd.read_parquet(filename).groupby(\"sequence_id\"):\n",
    "        supplemental_hand_landmarks[seq_id] = df[left_hand_columns + right_hand_columns].to_numpy()"
   ]
  },
  {
   "attachments": {},
   "cell_type": "markdown",
   "metadata": {},
   "source": [
    "### Estimate affine transform matrix and find axis scale"
   ]
  },
  {
   "cell_type": "code",
   "execution_count": 7,
   "metadata": {},
   "outputs": [],
   "source": [
    "standard_hand = np.array(\n",
    "    [\n",
    "        [5.07927835e-01, 8.09575438e-01],\n",
    "        [6.19768918e-01, 7.14033902e-01],\n",
    "        [6.97901249e-01, 5.90922773e-01],\n",
    "        [7.74790943e-01, 4.93720263e-01],\n",
    "        [8.50507736e-01, 4.35694307e-01],\n",
    "        [5.40026903e-01, 4.32799399e-01],\n",
    "        [5.41218460e-01, 2.89591074e-01],\n",
    "        [5.42616606e-01, 1.98928684e-01],\n",
    "        [5.41074634e-01, 1.19834989e-01],\n",
    "        [4.55297321e-01, 4.34886426e-01],\n",
    "        [4.38045800e-01, 2.81298965e-01],\n",
    "        [4.25656796e-01, 1.79603398e-01],\n",
    "        [4.12055492e-01, 9.64773595e-02],\n",
    "        [3.80906552e-01, 4.70337212e-01],\n",
    "        [3.35969508e-01, 3.32161725e-01],\n",
    "        [3.11885774e-01, 2.44850174e-01],\n",
    "        [2.94146836e-01, 1.72753423e-01],\n",
    "        [3.19318265e-01, 5.33898830e-01],\n",
    "        [2.44915754e-01, 4.52630371e-01],\n",
    "        [1.96688622e-01, 3.95348072e-01],\n",
    "        [1.59547806e-01, 3.37536871e-01]\n",
    "    ]\n",
    ")\n",
    "affine_estimate_points = [0, 5, 17]"
   ]
  },
  {
   "cell_type": "code",
   "execution_count": 8,
   "metadata": {},
   "outputs": [],
   "source": [
    "def solve_affine_matrix(src: np.ndarray, dst: np.ndarray) -> np.ndarray | None:\n",
    "    right = np.zeros((6, 6))\n",
    "    for i in range(3):\n",
    "        right[2 * i, 0:2] = right[2 * i + 1, 3:5] = src[i]\n",
    "        right[2 * i, 2] = right[2 * i + 1, 5] = 1\n",
    "    if np.linalg.det(right) == 0:\n",
    "        return None\n",
    "    return (np.linalg.inv(right) @ dst.flatten()).reshape(2, 3)"
   ]
  },
  {
   "cell_type": "code",
   "execution_count": 9,
   "metadata": {},
   "outputs": [
    {
     "name": "stderr",
     "output_type": "stream",
     "text": [
      "100%|██████████| 120244/120244 [06:10<00:00, 324.58it/s]\n"
     ]
    }
   ],
   "source": [
    "y_scales = []\n",
    "for data in tqdm.tqdm(list(train_hand_landmarks.values()) + list(supplemental_hand_landmarks.values())):\n",
    "    for hand_frames in (data[:, :63], data[:, 63:126]):\n",
    "        hand_frames = hand_frames[~np.isnan(hand_frames).all(1)]\n",
    "        hand_frames = np.nan_to_num(hand_frames, nan=0.0)\n",
    "        hand_frames = hand_frames.reshape(-1, 21, 3)\n",
    "\n",
    "        for hand in hand_frames:\n",
    "            A = solve_affine_matrix(\n",
    "                src=hand[affine_estimate_points][:, :2],\n",
    "                dst=standard_hand[affine_estimate_points],\n",
    "            )\n",
    "            if A is not None:\n",
    "                S = np.linalg.norm(A[:, :2], axis=0)\n",
    "                y_scales.append(S[1] / S[0])\n",
    "y_scales = np.stack(y_scales)\n",
    "y_scales = y_scales[y_scales < 5]\n",
    "y_scale = y_scales.mean()"
   ]
  },
  {
   "cell_type": "code",
   "execution_count": 10,
   "metadata": {},
   "outputs": [],
   "source": [
    "del train_hand_landmarks\n",
    "del supplemental_hand_landmarks"
   ]
  },
  {
   "cell_type": "code",
   "execution_count": 11,
   "metadata": {},
   "outputs": [
    {
     "data": {
      "image/png": "[encoded data removed]",
      "text/plain": [
       "<Figure size 640x480 with 1 Axes>"
      ]
     },
     "metadata": {},
     "output_type": "display_data"
    }
   ],
   "source": [
    "plt.hist(y_scales, bins=100)\n",
    "plt.axvline(y_scale, color=\"r\")\n",
    "plt.show()"
   ]
  },
  {
   "attachments": {},
   "cell_type": "markdown",
   "metadata": {},
   "source": [
    "### Save the normalized landmarks"
   ]
  },
  {
   "cell_type": "code",
   "execution_count": 12,
   "metadata": {},
   "outputs": [
    {
     "name": "stderr",
     "output_type": "stream",
     "text": [
      "100%|██████████| 68/68 [02:40<00:00,  2.36s/it]\n"
     ]
    }
   ],
   "source": [
    "!mkdir train_landmarks_npy\n",
    "\n",
    "for filename in tqdm.tqdm(glob.glob(\"train_landmarks/*.parquet\")):\n",
    "    for seq_id, df in pd.read_parquet(filename).groupby(\"sequence_id\"):\n",
    "        landmarks = df[columns].to_numpy().reshape(-1, 96, 3)\n",
    "        landmarks[:, :, 1] *= y_scale\n",
    "        landmarks = landmarks.reshape(-1, 288)\n",
    "        np.save(f\"train_landmarks_npy/{seq_id}.npy\", landmarks.astype(np.float32))"
   ]
  },
  {
   "cell_type": "code",
   "execution_count": 13,
   "metadata": {},
   "outputs": [
    {
     "name": "stderr",
     "output_type": "stream",
     "text": [
      "100%|██████████| 53/53 [02:12<00:00,  2.51s/it]\n"
     ]
    }
   ],
   "source": [
    "!mkdir supplemental_landmarks_npy\n",
    "\n",
    "for filename in tqdm.tqdm(glob.glob(\"supplemental_landmarks/*.parquet\")):\n",
    "    for seq_id, df in pd.read_parquet(filename).groupby(\"sequence_id\"):\n",
    "        landmarks = df[columns].to_numpy().reshape(-1, 96, 3)\n",
    "        landmarks[:, :, 1] *= y_scale\n",
    "        landmarks = landmarks.reshape(-1, 288)\n",
    "        np.save(f\"supplemental_landmarks_npy/{seq_id}.npy\", landmarks.astype(np.float32))"
   ]
  }
 ],
 "metadata": {
  "kernelspec": {
   "display_name": "gaslfr",
   "language": "python",
   "name": "python3"
  },
  "language_info": {
   "codemirror_mode": {
    "name": "ipython",
    "version": 3
   },
   "file_extension": ".py",
   "mimetype": "text/x-python",
   "name": "python",
   "nbconvert_exporter": "python",
   "pygments_lexer": "ipython3",
   "version": "3.8.16"
  },
  "orig_nbformat": 4
 },
 "nbformat": 4,
 "nbformat_minor": 2
}
